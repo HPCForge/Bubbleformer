{
 "cells": [
  {
   "cell_type": "code",
   "execution_count": null,
   "id": "886bcbaf-359f-4d71-97d2-12570762b2a1",
   "metadata": {},
   "outputs": [],
   "source": [
    "import torch\n",
    "from bubbleformer.models import get_model\n",
    "from bubbleformer.data import BubblemlForecast"
   ]
  },
  {
   "cell_type": "code",
   "execution_count": null,
   "id": "db2921ac-8237-46e4-925b-a9701cfa7144",
   "metadata": {},
   "outputs": [],
   "source": [
    "test_path = [\"/share/crsp/lab/ai4ts/share/BubbleML_f32/PoolBoiling-Saturated-FC72-2D-0.1/Twall-92.hdf5\"]\n",
    "test_dataset = BubblemlForecast(\n",
    "    filenames=test_path,\n",
    "    fields=[\"dfun\", \"temperature\", \"velx\", \"vely\"],\n",
    "    norm=\"none\",\n",
    "    time_window=5,\n",
    "    start_time=95\n",
    ")"
   ]
  },
  {
   "cell_type": "code",
   "execution_count": null,
   "id": "1cab5f2c-9fb3-4cd4-bd31-193bcb46a0c0",
   "metadata": {},
   "outputs": [],
   "source": [
    "model_name = \"unet_modern\"\n",
    "model_kwargs = {\n",
    "    \"hidden_channels\": 32,\n",
    "    \"ch_mults\": [1, 2, 2, 4, 4],\n",
    "    \"norm\": True\n",
    "}\n",
    "model = get_model(model_name, **model_kwargs)"
   ]
  },
  {
   "cell_type": "code",
   "execution_count": null,
   "id": "4cd2ed35-d29f-433b-abbc-ef8ff25d5ef2",
   "metadata": {},
   "outputs": [],
   "source": [
    "from collections import OrderedDict\n",
    "weights_path = \"/pub/sheikhh1/bubbleformer_logs/unet_modern_poolboiling_saturated_36055598/hpc_ckpt_8.ckpt\"\n",
    "model_data = torch.load(weights_path, weights_only=False)\n",
    "print(model_data.keys())\n",
    "diff_term, div_term = model_data['hyper_parameters']['normalization_constants']\n",
    "diff_term = torch.tensor(diff_term)\n",
    "div_term = torch.tensor(div_term)\n",
    "weight_state_dict = OrderedDict()\n",
    "for key, val in model_data[\"state_dict\"].items():\n",
    "    name = key[6:]\n",
    "    weight_state_dict[name] = val\n",
    "del model_data"
   ]
  },
  {
   "cell_type": "code",
   "execution_count": null,
   "id": "873103b9-9723-431c-99ab-3f8b09b05eb6",
   "metadata": {},
   "outputs": [],
   "source": [
    "model.load_state_dict(weight_state_dict)"
   ]
  },
  {
   "cell_type": "code",
   "execution_count": null,
   "id": "a30f8c42-8871-4f0e-ac8b-6732458b8ee6",
   "metadata": {},
   "outputs": [],
   "source": [
    "from bubbleformer.utils.losses import LpLoss\n",
    "_, _ = test_dataset.normalize(diff_term, div_term)\n",
    "criterion = LpLoss(d=2, p=2, reduce_dims=[0,1], reductions=[\"mean\", \"mean\"])\n",
    "model.eval()\n",
    "start_time = test_dataset.start_time\n",
    "skip_itrs = test_dataset.time_window\n",
    "model_preds = []\n",
    "model_targets = []\n",
    "timesteps = []\n",
    "for itr in range(0, 500, skip_itrs):\n",
    "    inp, tgt = test_dataset[itr]\n",
    "    print(f\"Autoreg pred {itr}, inp tw [{start_time+itr}, {start_time+itr+skip_itrs}], tgt tw [{start_time+itr+skip_itrs}, {start_time+itr+2*skip_itrs}]\")\n",
    "    if len(model_preds) > 0:\n",
    "        inp = model_preds[-1] # T, C, H, W\n",
    "    inp = inp.float().unsqueeze(0)\n",
    "    pred = model(inp)\n",
    "    pred = pred.squeeze(0).detach().cpu()\n",
    "    tgt = tgt.detach().cpu()\n",
    "\n",
    "    model_preds.append(pred)\n",
    "    model_targets.append(tgt)\n",
    "    timesteps.append(torch.arange(start_time+itr+skip_itrs, start_time+itr+2*skip_itrs))\n",
    "    print(criterion(pred, tgt))"
   ]
  },
  {
   "cell_type": "code",
   "execution_count": null,
   "id": "45de162a-5c75-4b5f-80cf-9b5bf7273c32",
   "metadata": {},
   "outputs": [],
   "source": [
    "from bubbleformer.utils.plot_utils import plot_bubbleml\n",
    "\n",
    "# model_preds = torch.cat(model_preds, dim=0)         # T, C, H, W\n",
    "# model_targets = torch.cat(model_targets, dim=0)     # T, C, H, W\n",
    "# timesteps = torch.cat(timesteps, dim=0)             # T,\n",
    "# num_var = len(test_dataset.fields)                  # C\n",
    "\n",
    "# preds = model_preds * div_term.view(1, num_var, 1, 1) + diff_term.view(1, num_var, 1, 1)     # denormalize\n",
    "# targets = model_targets * div_term.view(1, num_var, 1, 1) + diff_term.view(1, num_var, 1, 1) # denormalize\n",
    "\n"
   ]
  },
  {
   "cell_type": "code",
   "execution_count": null,
   "id": "b8950240-a7bc-4f65-a466-81fa66ff0211",
   "metadata": {},
   "outputs": [],
   "source": [
    "import os\n",
    "save_dir = \"/pub/sheikhh1/bubbleformer_logs/unet_modern_poolboiling_saturated_36055598/epoch_187_outputs/sat_92\"\n",
    "os.makedirs(save_dir, exist_ok=True)\n",
    "save_path = os.path.join(save_dir, \"predictions.pt\")\n",
    "\n",
    "torch.save({\"preds\": preds, \"targets\": targets, \"timesteps\": timesteps}, save_path)\n",
    "plot_bubbleml(preds, targets, timesteps, save_dir)"
   ]
  },
  {
   "cell_type": "code",
   "execution_count": null,
   "id": "c3ff75ed-b3e2-480e-b299-776fe6e17fae",
   "metadata": {},
   "outputs": [],
   "source": [
    "def test_eikonal_loss(phi):\n",
    "    \"\"\"\n",
    "    phi = predicted sdf torch.Tensor(T,H,W)\n",
    "    \"\"\"\n",
    "    dx = 1/32\n",
    "    grad_x = (phi[:, :, 2:] - phi[:, :, :-2]) / (2 * dx)\n",
    "    grad_y = (phi[:, 2:, :] - phi[:, :-2, :]) / (2 * dx)\n",
    "\n",
    "    grad_x = torch.nn.functional.pad(grad_x, (1, 1), mode=\"replicate\")\n",
    "    grad_y = torch.nn.functional.pad(grad_y, (0, 0, 1, 1), mode=\"replicate\")\n",
    "\n",
    "    grad_magnitude = torch.sqrt(grad_x**2 + grad_y**2)\n",
    "    loss_map = torch.abs(grad_magnitude - 1)\n",
    "    mean_loss = torch.mean(loss_map, dim=(1, 2))\n",
    "    return mean_loss"
   ]
  },
  {
   "cell_type": "code",
   "execution_count": null,
   "id": "49944d50-8306-432e-9378-d8d11c1c1859",
   "metadata": {},
   "outputs": [],
   "source": []
  }
 ],
 "metadata": {
  "kernelspec": {
   "display_name": "Python 3 (ipykernel)",
   "language": "python",
   "name": "python3"
  },
  "language_info": {
   "codemirror_mode": {
    "name": "ipython",
    "version": 3
   },
   "file_extension": ".py",
   "mimetype": "text/x-python",
   "name": "python",
   "nbconvert_exporter": "python",
   "pygments_lexer": "ipython3",
   "version": "3.10.16"
  }
 },
 "nbformat": 4,
 "nbformat_minor": 5
}
